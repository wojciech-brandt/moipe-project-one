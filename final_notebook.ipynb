{
 "cells": [
  {
   "cell_type": "markdown",
   "metadata": {},
   "source": [
    "# Importowanie bibliotek\n",
    "- *subprocess* - uruchamianie programów zewnętrznych w skrypcie, uzyskiwanie z nich danych\n",
    "- *numpy* - obliczenia macierzowe, działania na macierzach\n",
    "- *matplotlib.pyplot* - biblioteka do rysowania wykresów w stylu MatLab'a\n",
    "- *path* - do sprawdzenia, czy dane pliki istnieję\n",
    "- *config* - plik konfiguracyjny do pomiarów\n",
    "- *custom_statistics* - moduł zawierający funkcje służące do określania parametrów statystycznych (np. mediana, średnia, etc.)\n",
    "- *custom_approx* - moduł zawierający funkcje służące do aproksymacji danych, oraz określania adekwatności modeli aproksymacyjnych"
   ]
  },
  {
   "cell_type": "code",
   "execution_count": 177,
   "metadata": {},
   "outputs": [],
   "source": [
    "import subprocess\n",
    "from os import path\n",
    "import numpy as np\n",
    "import config as cfg\n",
    "import matplotlib.pyplot as plt\n",
    "import custom_statistics as stat\n",
    "import custom_approx as approx"
   ]
  },
  {
   "cell_type": "markdown",
   "metadata": {},
   "source": [
    "# Uzyskiwanie wyników pomiarów\n",
    "Wyniki uzyskiwane są jednorazowo (wtedy, kiedy pliki wyników nie istnieją)."
   ]
  },
  {
   "cell_type": "code",
   "execution_count": 178,
   "metadata": {},
   "outputs": [],
   "source": [
    "if not path.isfile(cfg.preliminary['FILE_NAME']):\n",
    "\tprelim_U = np.zeros(cfg.preliminary['REPETITIONS'])\n",
    "\n",
    "\tfor i in np.arange(cfg.preliminary['REPETITIONS']):\n",
    "\t\tprogram_output = subprocess.run(\n",
    "\t\t\t[cfg.executable['EXE_NAME'], str(cfg.preliminary['EXAMINED_POINT'])],\n",
    "\t\t\tcapture_output=True, text=True\n",
    "\t\t)\n",
    "\t\tprelim_U[i] = program_output.stdout\n",
    "\n",
    "\tprelim_X = np.ones(cfg.preliminary['REPETITIONS'])*cfg.preliminary['EXAMINED_POINT']\n",
    "\tout = np.stack([prelim_X, prelim_U])\n",
    "\tnp.savetxt(cfg.preliminary['FILE_NAME'], out, delimiter=\",\")\n",
    "\n",
    "else:\n",
    "\t[prelim_X, prelim_U] = np.vsplit(\n",
    "\t\tnp.genfromtxt(cfg.preliminary['FILE_NAME'], delimiter=','),\n",
    "\t\t2\n",
    "\t)"
   ]
  },
  {
   "cell_type": "code",
   "execution_count": 179,
   "metadata": {},
   "outputs": [],
   "source": [
    "if not path.isfile(cfg.main['FILE_NAME']):\n",
    "\tmain_X = np.linspace(\n",
    "\t\tcfg.main['START_POINT'],\n",
    "\t\tcfg.main['END_POINT'],\n",
    "\t\tcfg.main['NO_POINTS']\n",
    "\t)\n",
    "\tmain_U = np.zeros(cfg.main['NO_POINTS'])\n",
    "\n",
    "\tfor i, val in np.ndenumerate(main_X):\n",
    "\t\tprogram_output = subprocess.run(\n",
    "\t\t\t[cfg.executable['EXE_NAME'], str(val)],\n",
    "\t\t\tcapture_output=True, text=True\n",
    "\t\t)\n",
    "\t\tmain_U[i] = program_output.stdout\n",
    "\n",
    "\tout = np.stack([main_X, main_U])\n",
    "\tnp.savetxt(cfg.main['FILE_NAME'], out, delimiter=\",\")\n",
    "\n",
    "else:\n",
    "\t[main_X, main_U] = np.vsplit(\n",
    "\t\tnp.genfromtxt(cfg.main['FILE_NAME'], delimiter=','),\n",
    "\t\t2\n",
    "\t)"
   ]
  },
  {
   "cell_type": "code",
   "execution_count": 180,
   "metadata": {},
   "outputs": [],
   "source": [
    "prelim_U = np.transpose(prelim_U)\n",
    "prelim_X = np.transpose(prelim_X)\n",
    "main_U = np.transpose(main_U)\n",
    "main_X = np.transpose(main_X)\n",
    "prelim_U = prelim_U.reshape((-1,))\n",
    "prelim_X = prelim_X.reshape((-1,))\n",
    "main_U = main_U.reshape((-1,))\n",
    "main_X = main_X.reshape((-1,))"
   ]
  },
  {
   "cell_type": "markdown",
   "metadata": {},
   "source": [
    "# Wstępne zarysowanie wyników pomiarów"
   ]
  },
  {
   "cell_type": "code",
   "execution_count": 181,
   "metadata": {},
   "outputs": [
    {
     "data": {
      "image/png": "[encoded data removed]",
      "text/plain": [
       "<Figure size 432x288 with 1 Axes>"
      ]
     },
     "metadata": {
      "needs_background": "light"
     },
     "output_type": "display_data"
    }
   ],
   "source": [
    "plt.plot(main_X, main_U, 'r*')\n",
    "plt.show()"
   ]
  },
  {
   "cell_type": "code",
   "execution_count": 182,
   "metadata": {},
   "outputs": [
    {
     "data": {
      "image/png": "[encoded data removed]",
      "text/plain": [
       "<Figure size 432x288 with 1 Axes>"
      ]
     },
     "metadata": {
      "needs_background": "light"
     },
     "output_type": "display_data"
    }
   ],
   "source": [
    "plt.plot(prelim_X, prelim_U, 'b*')\n",
    "plt.show()"
   ]
  },
  {
   "cell_type": "markdown",
   "metadata": {},
   "source": [
    "# Parametry statystyczne\n",
    "Odpowiednio:\n",
    "- wielkość próby\n",
    "- średnia\n",
    "- mediana\n",
    "- wariancja\n",
    "- odchylenie standardowe\n",
    "- minimum\n",
    "- maksimum"
   ]
  },
  {
   "cell_type": "code",
   "execution_count": 183,
   "metadata": {},
   "outputs": [
    {
     "name": "stdout",
     "output_type": "stream",
     "text": [
      "50\n",
      "21.609288113599995 21.45237596 0.05296478251170718 0.23014078845721195 21.03978749 22.08524656\n"
     ]
    }
   ],
   "source": [
    "print(cfg.preliminary['REPETITIONS'])\n",
    "print(\n",
    "\tstat.arr_average(prelim_U),\n",
    "\tstat.arr_median(prelim_U),\n",
    "\tstat.variance(prelim_U),\n",
    "\tstat.standard_deviation(prelim_U),\n",
    "\tstat.min_value(prelim_U),\n",
    "\tstat.max_value(prelim_U)\n",
    ")"
   ]
  },
  {
   "cell_type": "markdown",
   "metadata": {},
   "source": [
    "# Standaryzacja pomiarów do przedziału <-1; 1>\n",
    "W kolejności obliczamy wartość średnią i jednostkę zmienności:\n",
    "$$\\bar{x}=\\frac{x_{i,min} + x_{i,max}}{2}$$\n",
    "$$\\varDelta x=\\frac{x_{i,max} + x_{i.min}}{2}$$\n",
    "Następnie przeliczamy wartości $x_i$ do nowego ukladu współrzędnych:\n",
    "$$t_i = \\frac{x_i - \\bar{x}}{\\varDelta x}$$\n",
    "gdzie $i = 1,2,...,N$"
   ]
  },
  {
   "cell_type": "code",
   "execution_count": 184,
   "metadata": {},
   "outputs": [],
   "source": [
    "average_x = (main_X[0] + main_X[-1]) / (2)\n",
    "delta_x   = (main_X[-1]+ main_X[0] ) / (2)\n",
    "main_T = np.zeros(cfg.main['NO_POINTS'])\n",
    "\n",
    "for i, val in np.ndenumerate(main_X):\n",
    "\tmain_T[i] = (val - average_x)/delta_x\n",
    "\n",
    "# main_T = [ (x - average_x)/delta_x for x in main_X ]\n",
    "# main_T = np.ndarray(main_T)"
   ]
  },
  {
   "cell_type": "code",
   "execution_count": 185,
   "metadata": {},
   "outputs": [
    {
     "name": "stdout",
     "output_type": "stream",
     "text": [
      "(12.14970533, 11.74754844)\n"
     ]
    }
   ],
   "source": [
    "print(stat.border_values(main_U))"
   ]
  },
  {
   "cell_type": "markdown",
   "metadata": {},
   "source": [
    "# Aproksymacja danych\n",
    "Kolejno z użyciem:\n",
    "- wielomianów wg. wzoru: $$y = a_0 + a_1 \\cdot x + a_2 \\cdot x^2 + a_3 \\cdot x^3 +...+ a_n \\cdot x^n$$\n",
    "- funkcji logarytmu naturalnego: $$y = a_0 + a_1 \\cdot \\ln(x) + a_2 \\cdot \\ln(x)^2 + ...$$\n",
    "- z użyciem funkcji wymiernej wg. wzoru: $$y = a_0 + a_1 \\cdot \\left( \\frac{1}{x} \\right) + a_2 \\cdot \\left( \\frac{1}{x} \\right)^2 +...$$\n",
    "- z użyciem funkcji trygonometrycznych: $$ a_0 + a_1 \\cdot \\cos(c \\cdot x) + a_2 \\cdot \\sin(c \\cdot x) + a_3 \\cdot \\cos(c\\cdot 2x) + a_4 \\cdot \\sin(c \\cdot 2x) + ...$$\n",
    "gdzie c to stała, jaką dobieramy empirycznie tak aby uzyskać jak najbardziej dopasowany wykres.\n",
    "\n",
    "Ważne aby zaznaczyć, że tak jak aproksymacje wielomianem i funkcjami trygonometrycznymi wykonujemy na danych standaryzowanych, tak dla aproksymacji logarytmem oraz funkcją wymierną jest to niemożliwe.\n"
   ]
  },
  {
   "cell_type": "code",
   "execution_count": 186,
   "metadata": {},
   "outputs": [
    {
     "data": {
      "image/png": "[encoded data removed]",
      "text/plain": [
       "<Figure size 432x288 with 1 Axes>"
      ]
     },
     "metadata": {
      "needs_background": "light"
     },
     "output_type": "display_data"
    }
   ],
   "source": [
    "first_deg_poly = approx.polynomial_approximation(main_T, main_U, 2)\n",
    "second_deg_poly = approx.polynomial_approximation(main_T, main_U, 3)\n",
    "seventh_deg_poly = approx.polynomial_approximation(main_T, main_U, 8)\n",
    "plt.plot(main_T, main_U, 'r*', main_T, first_deg_poly, 'b-', main_T, second_deg_poly, 'g-', main_T, seventh_deg_poly, 'k-')\n",
    "plt.show()"
   ]
  },
  {
   "cell_type": "code",
   "execution_count": 187,
   "metadata": {},
   "outputs": [
    {
     "data": {
      "text/plain": [
       "[]"
      ]
     },
     "execution_count": 187,
     "metadata": {},
     "output_type": "execute_result"
    },
    {
     "data": {
      "image/png": "[encoded data removed]",
      "text/plain": [
       "<Figure size 432x288 with 1 Axes>"
      ]
     },
     "metadata": {
      "needs_background": "light"
     },
     "output_type": "display_data"
    }
   ],
   "source": [
    "nat_approx = approx.natlog_approximation(main_X, main_U, 6)\n",
    "plt.plot(main_T, main_U, 'r*', main_T, nat_approx, 'b-')\n",
    "plt.plot()"
   ]
  },
  {
   "cell_type": "code",
   "execution_count": 188,
   "metadata": {},
   "outputs": [
    {
     "data": {
      "image/png": "[encoded data removed]",
      "text/plain": [
       "<Figure size 432x288 with 1 Axes>"
      ]
     },
     "metadata": {
      "needs_background": "light"
     },
     "output_type": "display_data"
    }
   ],
   "source": [
    "rat_approx = approx.rational_approximation(main_X, main_U, 6)\n",
    "plt.plot(main_T, main_U, 'r*', main_T, rat_approx, 'b-')\n",
    "plt.show()"
   ]
  },
  {
   "cell_type": "code",
   "execution_count": 189,
   "metadata": {},
   "outputs": [
    {
     "data": {
      "image/png": "[encoded data removed]",
      "text/plain": [
       "<Figure size 432x288 with 1 Axes>"
      ]
     },
     "metadata": {
      "needs_background": "light"
     },
     "output_type": "display_data"
    }
   ],
   "source": [
    "trig_approx = approx.trig_approximation(main_T, main_U, 3, np.pi)\n",
    "plt.plot(main_T, main_U, 'r*', main_T, trig_approx, 'k--')\n",
    "plt.show()"
   ]
  },
  {
   "cell_type": "markdown",
   "metadata": {},
   "source": [
    "# Wyznaczanie błędów poszczególnych aproksymacji\n",
    "Oglądając wykresy nietrudno zauważyć, że jedyne sensowne modele aproksymacji dla powyższych pomiarów to aproksymacja wielomianem 7'ego stopnia oraz trygonometryczna. Stąd to na nich przeprowadzone zostaną następne kroki, jakimi jest określenie ich faktycznej zdatności przy pomocy określania błędów."
   ]
  },
  {
   "cell_type": "markdown",
   "metadata": {},
   "source": [
    "### Określenie średnich błędów względnych i bezwzględnych obu metod"
   ]
  },
  {
   "cell_type": "code",
   "execution_count": 190,
   "metadata": {},
   "outputs": [
    {
     "name": "stdout",
     "output_type": "stream",
     "text": [
      "0.006815149501670351 0.008499533340442452\n",
      "0.1055497874996231 0.12879499177917966\n"
     ]
    }
   ],
   "source": [
    "print(\n",
    "\tapprox.av_rel_error(main_U, seventh_deg_poly),\n",
    "\tapprox.av_rel_error(main_U, trig_approx)\n",
    ")\n",
    "print(\n",
    "\tapprox.av_abs_error(main_U, seventh_deg_poly),\n",
    "\tapprox.av_abs_error(main_U, trig_approx)\n",
    ")"
   ]
  },
  {
   "cell_type": "markdown",
   "metadata": {},
   "source": [
    "### Obliczenie RMSE oraz współczynnik determinancji obu metod"
   ]
  },
  {
   "cell_type": "code",
   "execution_count": 191,
   "metadata": {},
   "outputs": [
    {
     "name": "stdout",
     "output_type": "stream",
     "text": [
      "0.14493750319485285 0.16269714889643003\n",
      "0.9988663494853371 0.998571508951461\n"
     ]
    }
   ],
   "source": [
    "print(\n",
    "\tapprox.rmse(main_U, seventh_deg_poly),\n",
    "\tapprox.rmse(main_U, trig_approx)\n",
    ")\n",
    "print(\n",
    "\tapprox.determination_coeff(main_U, seventh_deg_poly),\n",
    "\tapprox.determination_coeff(main_U, trig_approx)\n",
    ")"
   ]
  }
 ],
 "metadata": {
  "interpreter": {
   "hash": "504ba8cc40df526187e7285ffca159d9100b77ea57f1f6672ae379fe46e8f45b"
  },
  "kernelspec": {
   "display_name": "Python 3.9.7 64-bit ('my-env': conda)",
   "language": "python",
   "name": "python3"
  },
  "language_info": {
   "codemirror_mode": {
    "name": "ipython",
    "version": 3
   },
   "file_extension": ".py",
   "mimetype": "text/x-python",
   "name": "python",
   "nbconvert_exporter": "python",
   "pygments_lexer": "ipython3",
   "version": "3.9.7"
  },
  "orig_nbformat": 4
 },
 "nbformat": 4,
 "nbformat_minor": 2
}
