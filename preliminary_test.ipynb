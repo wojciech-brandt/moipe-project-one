{
 "cells": [
  {
   "cell_type": "code",
   "execution_count": 22,
   "metadata": {},
   "outputs": [],
   "source": [
    "import subprocess\n",
    "import numpy as np\n",
    "import matplotlib.pyplot as plt\n",
    "import custom_statistics as stat"
   ]
  },
  {
   "cell_type": "markdown",
   "metadata": {},
   "source": [
    "# Uzyskiwanie danych dla jednego punktu\n",
    "Według zaleceń liczba powtórzeń dla jednego punktu ma wynosić **conajmniej 25**"
   ]
  },
  {
   "cell_type": "code",
   "execution_count": 23,
   "metadata": {},
   "outputs": [],
   "source": [
    "examined_point = 1.5\n",
    "repetitions = 40\n",
    "\n",
    "U = np.zeros(repetitions)\n",
    "\n",
    "for i in range(0, U.size):\n",
    "\tprogram_output = subprocess.run([\"z09v01.exe\", str(examined_point)], capture_output=True, text=True)\n",
    "\tU[i] = program_output.stdout"
   ]
  },
  {
   "cell_type": "code",
   "execution_count": 24,
   "metadata": {},
   "outputs": [],
   "source": [
    "X = np.ones(U.size)*examined_point\n",
    "# plt.plot(X, U, 'r*')"
   ]
  },
  {
   "cell_type": "code",
   "execution_count": 25,
   "metadata": {},
   "outputs": [
    {
     "data": {
      "text/plain": [
       "(array([ 1.,  0.,  2.,  3., 11.,  6.,  5.,  4.,  5.,  3.]),\n",
       " array([11.60313428, 11.68833783, 11.77354138, 11.85874494, 11.94394849,\n",
       "        12.02915204, 12.11435559, 12.19955914, 12.2847627 , 12.36996625,\n",
       "        12.4551698 ]),\n",
       " <BarContainer object of 10 artists>)"
      ]
     },
     "execution_count": 25,
     "metadata": {},
     "output_type": "execute_result"
    },
    {
     "data": {
      "image/png": "[encoded data removed]",
      "text/plain": [
       "<Figure size 432x288 with 1 Axes>"
      ]
     },
     "metadata": {
      "needs_background": "light"
     },
     "output_type": "display_data"
    }
   ],
   "source": [
    "plt.hist(U)"
   ]
  }
 ],
 "metadata": {
  "interpreter": {
   "hash": "504ba8cc40df526187e7285ffca159d9100b77ea57f1f6672ae379fe46e8f45b"
  },
  "kernelspec": {
   "display_name": "Python 3.9.7 64-bit ('my-env': conda)",
   "language": "python",
   "name": "python3"
  },
  "language_info": {
   "codemirror_mode": {
    "name": "ipython",
    "version": 3
   },
   "file_extension": ".py",
   "mimetype": "text/x-python",
   "name": "python",
   "nbconvert_exporter": "python",
   "pygments_lexer": "ipython3",
   "version": "3.9.7"
  },
  "orig_nbformat": 4
 },
 "nbformat": 4,
 "nbformat_minor": 2
}
