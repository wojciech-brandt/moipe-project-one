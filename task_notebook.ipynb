{
 "cells": [
  {
   "cell_type": "markdown",
   "metadata": {},
   "source": [
    "# Importowanie bibliotek\n",
    "- *subprocess* - uruchamianie programów zewnętrznych w skrypcie, uzyskiwanie z nich danych\n",
    "- *numpy* - obliczenia macierzowe, działania na macierzach\n",
    "- *matplotlib.pyplot* - biblioteka do rysowania wykresów w stylu MatLab'a"
   ]
  },
  {
   "cell_type": "code",
   "execution_count": 1,
   "metadata": {},
   "outputs": [],
   "source": [
    "import subprocess\n",
    "import numpy as np\n",
    "import matplotlib.pyplot as plt\n",
    "import custom_statistics as stat"
   ]
  },
  {
   "cell_type": "markdown",
   "metadata": {},
   "source": [
    "# Uzyskiwanie wyników pomiaru z programu"
   ]
  },
  {
   "cell_type": "code",
   "execution_count": 2,
   "metadata": {},
   "outputs": [],
   "source": [
    "X = np.linspace(0, 20, 20)\n",
    "U = np.zeros(X.size)\n",
    "\n",
    "for i, val in enumerate(X):\n",
    "\tprogram_output = subprocess.run([\"z09v01.exe\", str(val)], capture_output=True, text=True)\n",
    "\tU[i] = program_output.stdout\n"
   ]
  },
  {
   "cell_type": "code",
   "execution_count": 3,
   "metadata": {},
   "outputs": [],
   "source": [
    "# plt.plot(x, t, 'ro')"
   ]
  },
  {
   "cell_type": "markdown",
   "metadata": {},
   "source": [
    "# Standaryzacja pomiarów do przedziału <-1; 1>\n",
    "W kolejności obliczamy wartość średnią i jednostkę zmienności:\n",
    "$$\\bar{x}=\\frac{x_{i,min} + x_{i,max}}{2}$$\n",
    "$$\\varDelta x=\\frac{x_{i,max} + x_{i.min}}{2}$$\n",
    "Następnie przeliczamy wartości $x_i$ do nowego ukladu współrzędnych:\n",
    "$$t_i = \\frac{x_i - \\bar{x}}{\\varDelta x}$$\n",
    "gdzie $i = 1,2,...,N$"
   ]
  },
  {
   "cell_type": "code",
   "execution_count": 4,
   "metadata": {},
   "outputs": [],
   "source": [
    "average_x = (X[0] + X[-1]) / (2)\n",
    "delta_x   = (X[-1]+ X[0] ) / (2)\n",
    "\n",
    "T = [(x - average_x)/delta_x for x in X]"
   ]
  },
  {
   "cell_type": "code",
   "execution_count": 5,
   "metadata": {},
   "outputs": [],
   "source": [
    "def min_value(arr: np.ndarray):\n",
    "\tmin = arr[0]\n",
    "\tfor i in arr: \n",
    "\t\tif i < min: min = i\n",
    "\n",
    "\treturn min"
   ]
  },
  {
   "cell_type": "code",
   "execution_count": 6,
   "metadata": {},
   "outputs": [
    {
     "name": "stdout",
     "output_type": "stream",
     "text": [
      "11.86311279\n",
      "11.86311279\n",
      "11.86311279\n"
     ]
    }
   ],
   "source": [
    "print(stat.min_value(U))\n",
    "print(min_value(U))\n",
    "min = U[0]\n",
    "for i in U: \n",
    "\tif i < min: min = i\n",
    "\n",
    "print(min)\n"
   ]
  }
 ],
 "metadata": {
  "interpreter": {
   "hash": "504ba8cc40df526187e7285ffca159d9100b77ea57f1f6672ae379fe46e8f45b"
  },
  "kernelspec": {
   "display_name": "Python 3.9.7 64-bit ('my-env': conda)",
   "language": "python",
   "name": "python3"
  },
  "language_info": {
   "codemirror_mode": {
    "name": "ipython",
    "version": 3
   },
   "file_extension": ".py",
   "mimetype": "text/x-python",
   "name": "python",
   "nbconvert_exporter": "python",
   "pygments_lexer": "ipython3",
   "version": "3.9.7"
  },
  "orig_nbformat": 4
 },
 "nbformat": 4,
 "nbformat_minor": 2
}
